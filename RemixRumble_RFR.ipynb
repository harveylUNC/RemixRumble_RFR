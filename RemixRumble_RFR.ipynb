{
 "cells": [
  {
   "cell_type": "code",
   "execution_count": 1,
   "id": "209e3072-95d5-456e-b40f-7748b042dd6c",
   "metadata": {},
   "outputs": [],
   "source": [
    "import pandas as pd, matplotlib.pyplot as plt, numpy as np, sqlite3, seaborn as sns\n",
    "from sqlalchemy import text"
   ]
  },
  {
   "cell_type": "code",
   "execution_count": 2,
   "id": "379dbd7e-b597-4e0d-a4c6-4a75f1927312",
   "metadata": {
    "scrolled": true
   },
   "outputs": [],
   "source": [
    "scores = pd.read_csv('remixrumblescores.csv')\n",
    "scores.drop(['game','empty_krug', 'gold_opener'],axis=1,inplace=True)"
   ]
  },
  {
   "cell_type": "code",
   "execution_count": 3,
   "id": "6acfbd96-b687-4813-a3ed-af28bdc62d13",
   "metadata": {
    "scrolled": true
   },
   "outputs": [
    {
     "data": {
      "text/plain": [
       "108"
      ]
     },
     "execution_count": 3,
     "metadata": {},
     "output_type": "execute_result"
    }
   ],
   "source": [
    "from sqlalchemy import create_engine\n",
    "engine = create_engine('sqlite://', echo=False)\n",
    "scores.to_sql(name='scores', con=engine)"
   ]
  },
  {
   "cell_type": "markdown",
   "id": "cb85cac0-0b16-4327-85d1-b525f717e2de",
   "metadata": {},
   "source": [
    "# An In Depth Look at Teamfight Tactics Remix Rumble NA Regionals"
   ]
  },
  {
   "cell_type": "markdown",
   "id": "f0d4966c-ed25-44b8-8127-4aaef3b948be",
   "metadata": {},
   "source": [
    "## Overview"
   ]
  },
  {
   "cell_type": "markdown",
   "id": "bdc06bd0-eb56-48b9-87d3-707191c7ea38",
   "metadata": {},
   "source": [
    "In this analysis we will perform a variety of data science tasks:\n",
    "- **Exploratory Data Analysis** to identify possible patterns, anomalies, relationships within the data as well as develop hypotheses for deeper analysis\n",
    "- **Predictive modeling** to determine how strongly early game decisions and randomness affect player placement and whether we can leverage this knowledge to build a model with meaningful predictive power\n",
    "- **Diagnostic Analysis** in looking deeper in the data and TFT core game mechanics to make informed decisions regarding feature selection\n",
    "- **Model Insights** to, through the lens of our analysis, discuss whether core TFT game mechanics are well designed and whether or not certain aspects need rebalancing\n"
   ]
  },
  {
   "cell_type": "markdown",
   "id": "740e14f4-bc9a-40e3-b32a-5b26a1be1143",
   "metadata": {},
   "source": [
    "#### Data Overview\n",
    "- Data is gathered manually from Twitch Videos on Demand (VODs) from each player in the Remix Rumble NA Regional Tournament for Day 2 and Day 3. Tourney data is not captured entirely in this dataset as some players failed to save their VODs from either or both days. "
   ]
  },
  {
   "cell_type": "markdown",
   "id": "f3ba5ab6-c045-4a04-ab04-69b37c4385de",
   "metadata": {},
   "source": [
    "#### Column Descriptors\n",
    "- neeko: number of neeko (champion duplicator) on Stage 1 (no duplicator -> 0, lesser duplicator -> 1, greater duplicator -> 2)\n",
    "- gold_not_units: receiving a gold drop rather than a unit drop on Stage 1, binary  \n",
    "- 3cost: number of 3-costs obtained on Stage 1\n",
    "- open_{item}: opening with {item} on Stage 1, binary\n",
    "- pick_order: champion pick order on 2-4 carousel (1st -> 1, 2nd -> 2, 3rd -> 3, 4th -> 4)\n",
    "- prekrug_slams: number of completed items by krugs (2-7). Items completed after 2-6 combat and on 2-7 do not count.\n",
    "- points: points gained during game \n",
    "- placement: placement of game (9-points)"
   ]
  },
  {
   "cell_type": "markdown",
   "id": "7e4ebd7a-d4bd-4572-a38b-f3d95541e369",
   "metadata": {},
   "source": [
    "# Exploratory Data Analysis"
   ]
  },
  {
   "cell_type": "code",
   "execution_count": 4,
   "id": "734af608-cfa9-4fb6-b7f6-06760744d0ae",
   "metadata": {},
   "outputs": [
    {
     "data": {
      "text/html": [
       "<div>\n",
       "<style scoped>\n",
       "    .dataframe tbody tr th:only-of-type {\n",
       "        vertical-align: middle;\n",
       "    }\n",
       "\n",
       "    .dataframe tbody tr th {\n",
       "        vertical-align: top;\n",
       "    }\n",
       "\n",
       "    .dataframe thead th {\n",
       "        text-align: right;\n",
       "    }\n",
       "</style>\n",
       "<table border=\"1\" class=\"dataframe\">\n",
       "  <thead>\n",
       "    <tr style=\"text-align: right;\">\n",
       "      <th></th>\n",
       "      <th>neeko</th>\n",
       "      <th>gold_not_units</th>\n",
       "      <th>3cost</th>\n",
       "      <th>open_sword</th>\n",
       "      <th>open_chain</th>\n",
       "      <th>open_belt</th>\n",
       "      <th>open_rod</th>\n",
       "      <th>open_cloak</th>\n",
       "      <th>open_bow</th>\n",
       "      <th>open_glove</th>\n",
       "      <th>open_tear</th>\n",
       "      <th>pick_order</th>\n",
       "      <th>prekrug_slams</th>\n",
       "      <th>points</th>\n",
       "      <th>placement</th>\n",
       "    </tr>\n",
       "  </thead>\n",
       "  <tbody>\n",
       "    <tr>\n",
       "      <th>neeko</th>\n",
       "      <td>1.000000</td>\n",
       "      <td>-0.079931</td>\n",
       "      <td>-0.081422</td>\n",
       "      <td>-0.055565</td>\n",
       "      <td>0.014973</td>\n",
       "      <td>0.061478</td>\n",
       "      <td>-0.058805</td>\n",
       "      <td>0.143792</td>\n",
       "      <td>0.014973</td>\n",
       "      <td>-0.030158</td>\n",
       "      <td>-0.141836</td>\n",
       "      <td>0.048214</td>\n",
       "      <td>-0.125723</td>\n",
       "      <td>0.151451</td>\n",
       "      <td>-0.151451</td>\n",
       "    </tr>\n",
       "    <tr>\n",
       "      <th>gold_not_units</th>\n",
       "      <td>-0.079931</td>\n",
       "      <td>1.000000</td>\n",
       "      <td>-0.279849</td>\n",
       "      <td>-0.151295</td>\n",
       "      <td>-0.007352</td>\n",
       "      <td>-0.020418</td>\n",
       "      <td>-0.105494</td>\n",
       "      <td>-0.004298</td>\n",
       "      <td>0.045581</td>\n",
       "      <td>0.143230</td>\n",
       "      <td>0.089699</td>\n",
       "      <td>0.077333</td>\n",
       "      <td>-0.018418</td>\n",
       "      <td>0.018075</td>\n",
       "      <td>-0.018075</td>\n",
       "    </tr>\n",
       "    <tr>\n",
       "      <th>3cost</th>\n",
       "      <td>-0.081422</td>\n",
       "      <td>-0.279849</td>\n",
       "      <td>1.000000</td>\n",
       "      <td>0.030679</td>\n",
       "      <td>0.042437</td>\n",
       "      <td>-0.123341</td>\n",
       "      <td>0.109757</td>\n",
       "      <td>-0.064971</td>\n",
       "      <td>0.090936</td>\n",
       "      <td>-0.093245</td>\n",
       "      <td>-0.144720</td>\n",
       "      <td>0.065795</td>\n",
       "      <td>0.115662</td>\n",
       "      <td>0.151133</td>\n",
       "      <td>-0.151133</td>\n",
       "    </tr>\n",
       "    <tr>\n",
       "      <th>open_sword</th>\n",
       "      <td>-0.055565</td>\n",
       "      <td>-0.151295</td>\n",
       "      <td>0.030679</td>\n",
       "      <td>1.000000</td>\n",
       "      <td>-0.055288</td>\n",
       "      <td>-0.004008</td>\n",
       "      <td>-0.164179</td>\n",
       "      <td>-0.135213</td>\n",
       "      <td>-0.217767</td>\n",
       "      <td>-0.227056</td>\n",
       "      <td>-0.190042</td>\n",
       "      <td>-0.194990</td>\n",
       "      <td>0.025876</td>\n",
       "      <td>0.124216</td>\n",
       "      <td>-0.124216</td>\n",
       "    </tr>\n",
       "    <tr>\n",
       "      <th>open_chain</th>\n",
       "      <td>0.014973</td>\n",
       "      <td>-0.007352</td>\n",
       "      <td>0.042437</td>\n",
       "      <td>-0.055288</td>\n",
       "      <td>1.000000</td>\n",
       "      <td>-0.154450</td>\n",
       "      <td>0.051580</td>\n",
       "      <td>-0.087978</td>\n",
       "      <td>-0.123746</td>\n",
       "      <td>-0.222911</td>\n",
       "      <td>-0.097580</td>\n",
       "      <td>0.075388</td>\n",
       "      <td>-0.023847</td>\n",
       "      <td>-0.108642</td>\n",
       "      <td>0.108642</td>\n",
       "    </tr>\n",
       "    <tr>\n",
       "      <th>open_belt</th>\n",
       "      <td>0.061478</td>\n",
       "      <td>-0.020418</td>\n",
       "      <td>-0.123341</td>\n",
       "      <td>-0.004008</td>\n",
       "      <td>-0.154450</td>\n",
       "      <td>1.000000</td>\n",
       "      <td>-0.177436</td>\n",
       "      <td>0.053666</td>\n",
       "      <td>-0.232214</td>\n",
       "      <td>-0.098290</td>\n",
       "      <td>-0.247804</td>\n",
       "      <td>0.186650</td>\n",
       "      <td>0.100117</td>\n",
       "      <td>0.159699</td>\n",
       "      <td>-0.159699</td>\n",
       "    </tr>\n",
       "    <tr>\n",
       "      <th>open_rod</th>\n",
       "      <td>-0.058805</td>\n",
       "      <td>-0.105494</td>\n",
       "      <td>0.109757</td>\n",
       "      <td>-0.164179</td>\n",
       "      <td>0.051580</td>\n",
       "      <td>-0.177436</td>\n",
       "      <td>1.000000</td>\n",
       "      <td>-0.190087</td>\n",
       "      <td>-0.069521</td>\n",
       "      <td>-0.166718</td>\n",
       "      <td>-0.002974</td>\n",
       "      <td>-0.067400</td>\n",
       "      <td>0.082546</td>\n",
       "      <td>-0.046974</td>\n",
       "      <td>0.046974</td>\n",
       "    </tr>\n",
       "    <tr>\n",
       "      <th>open_cloak</th>\n",
       "      <td>0.143792</td>\n",
       "      <td>-0.004298</td>\n",
       "      <td>-0.064971</td>\n",
       "      <td>-0.135213</td>\n",
       "      <td>-0.087978</td>\n",
       "      <td>0.053666</td>\n",
       "      <td>-0.190087</td>\n",
       "      <td>1.000000</td>\n",
       "      <td>-0.244383</td>\n",
       "      <td>-0.100235</td>\n",
       "      <td>-0.064820</td>\n",
       "      <td>-0.024483</td>\n",
       "      <td>0.148822</td>\n",
       "      <td>-0.024839</td>\n",
       "      <td>0.024839</td>\n",
       "    </tr>\n",
       "    <tr>\n",
       "      <th>open_bow</th>\n",
       "      <td>0.014973</td>\n",
       "      <td>0.045581</td>\n",
       "      <td>0.090936</td>\n",
       "      <td>-0.217767</td>\n",
       "      <td>-0.123746</td>\n",
       "      <td>-0.232214</td>\n",
       "      <td>-0.069521</td>\n",
       "      <td>-0.244383</td>\n",
       "      <td>1.000000</td>\n",
       "      <td>-0.107169</td>\n",
       "      <td>-0.017742</td>\n",
       "      <td>0.025129</td>\n",
       "      <td>0.045761</td>\n",
       "      <td>-0.017686</td>\n",
       "      <td>0.017686</td>\n",
       "    </tr>\n",
       "    <tr>\n",
       "      <th>open_glove</th>\n",
       "      <td>-0.030158</td>\n",
       "      <td>0.143230</td>\n",
       "      <td>-0.093245</td>\n",
       "      <td>-0.227056</td>\n",
       "      <td>-0.222911</td>\n",
       "      <td>-0.098290</td>\n",
       "      <td>-0.166718</td>\n",
       "      <td>-0.100235</td>\n",
       "      <td>-0.107169</td>\n",
       "      <td>1.000000</td>\n",
       "      <td>-0.163447</td>\n",
       "      <td>0.016105</td>\n",
       "      <td>0.014044</td>\n",
       "      <td>0.003827</td>\n",
       "      <td>-0.003827</td>\n",
       "    </tr>\n",
       "    <tr>\n",
       "      <th>open_tear</th>\n",
       "      <td>-0.141836</td>\n",
       "      <td>0.089699</td>\n",
       "      <td>-0.144720</td>\n",
       "      <td>-0.190042</td>\n",
       "      <td>-0.097580</td>\n",
       "      <td>-0.247804</td>\n",
       "      <td>-0.002974</td>\n",
       "      <td>-0.064820</td>\n",
       "      <td>-0.017742</td>\n",
       "      <td>-0.163447</td>\n",
       "      <td>1.000000</td>\n",
       "      <td>-0.133306</td>\n",
       "      <td>0.009402</td>\n",
       "      <td>-0.128547</td>\n",
       "      <td>0.128547</td>\n",
       "    </tr>\n",
       "    <tr>\n",
       "      <th>pick_order</th>\n",
       "      <td>0.048214</td>\n",
       "      <td>0.077333</td>\n",
       "      <td>0.065795</td>\n",
       "      <td>-0.194990</td>\n",
       "      <td>0.075388</td>\n",
       "      <td>0.186650</td>\n",
       "      <td>-0.067400</td>\n",
       "      <td>-0.024483</td>\n",
       "      <td>0.025129</td>\n",
       "      <td>0.016105</td>\n",
       "      <td>-0.133306</td>\n",
       "      <td>1.000000</td>\n",
       "      <td>0.295406</td>\n",
       "      <td>0.119079</td>\n",
       "      <td>-0.119079</td>\n",
       "    </tr>\n",
       "    <tr>\n",
       "      <th>prekrug_slams</th>\n",
       "      <td>-0.125723</td>\n",
       "      <td>-0.018418</td>\n",
       "      <td>0.115662</td>\n",
       "      <td>0.025876</td>\n",
       "      <td>-0.023847</td>\n",
       "      <td>0.100117</td>\n",
       "      <td>0.082546</td>\n",
       "      <td>0.148822</td>\n",
       "      <td>0.045761</td>\n",
       "      <td>0.014044</td>\n",
       "      <td>0.009402</td>\n",
       "      <td>0.295406</td>\n",
       "      <td>1.000000</td>\n",
       "      <td>0.086358</td>\n",
       "      <td>-0.086358</td>\n",
       "    </tr>\n",
       "    <tr>\n",
       "      <th>points</th>\n",
       "      <td>0.151451</td>\n",
       "      <td>0.018075</td>\n",
       "      <td>0.151133</td>\n",
       "      <td>0.124216</td>\n",
       "      <td>-0.108642</td>\n",
       "      <td>0.159699</td>\n",
       "      <td>-0.046974</td>\n",
       "      <td>-0.024839</td>\n",
       "      <td>-0.017686</td>\n",
       "      <td>0.003827</td>\n",
       "      <td>-0.128547</td>\n",
       "      <td>0.119079</td>\n",
       "      <td>0.086358</td>\n",
       "      <td>1.000000</td>\n",
       "      <td>-1.000000</td>\n",
       "    </tr>\n",
       "    <tr>\n",
       "      <th>placement</th>\n",
       "      <td>-0.151451</td>\n",
       "      <td>-0.018075</td>\n",
       "      <td>-0.151133</td>\n",
       "      <td>-0.124216</td>\n",
       "      <td>0.108642</td>\n",
       "      <td>-0.159699</td>\n",
       "      <td>0.046974</td>\n",
       "      <td>0.024839</td>\n",
       "      <td>0.017686</td>\n",
       "      <td>-0.003827</td>\n",
       "      <td>0.128547</td>\n",
       "      <td>-0.119079</td>\n",
       "      <td>-0.086358</td>\n",
       "      <td>-1.000000</td>\n",
       "      <td>1.000000</td>\n",
       "    </tr>\n",
       "  </tbody>\n",
       "</table>\n",
       "</div>"
      ],
      "text/plain": [
       "                   neeko  gold_not_units     3cost  open_sword  open_chain  \\\n",
       "neeko           1.000000       -0.079931 -0.081422   -0.055565    0.014973   \n",
       "gold_not_units -0.079931        1.000000 -0.279849   -0.151295   -0.007352   \n",
       "3cost          -0.081422       -0.279849  1.000000    0.030679    0.042437   \n",
       "open_sword     -0.055565       -0.151295  0.030679    1.000000   -0.055288   \n",
       "open_chain      0.014973       -0.007352  0.042437   -0.055288    1.000000   \n",
       "open_belt       0.061478       -0.020418 -0.123341   -0.004008   -0.154450   \n",
       "open_rod       -0.058805       -0.105494  0.109757   -0.164179    0.051580   \n",
       "open_cloak      0.143792       -0.004298 -0.064971   -0.135213   -0.087978   \n",
       "open_bow        0.014973        0.045581  0.090936   -0.217767   -0.123746   \n",
       "open_glove     -0.030158        0.143230 -0.093245   -0.227056   -0.222911   \n",
       "open_tear      -0.141836        0.089699 -0.144720   -0.190042   -0.097580   \n",
       "pick_order      0.048214        0.077333  0.065795   -0.194990    0.075388   \n",
       "prekrug_slams  -0.125723       -0.018418  0.115662    0.025876   -0.023847   \n",
       "points          0.151451        0.018075  0.151133    0.124216   -0.108642   \n",
       "placement      -0.151451       -0.018075 -0.151133   -0.124216    0.108642   \n",
       "\n",
       "                open_belt  open_rod  open_cloak  open_bow  open_glove  \\\n",
       "neeko            0.061478 -0.058805    0.143792  0.014973   -0.030158   \n",
       "gold_not_units  -0.020418 -0.105494   -0.004298  0.045581    0.143230   \n",
       "3cost           -0.123341  0.109757   -0.064971  0.090936   -0.093245   \n",
       "open_sword      -0.004008 -0.164179   -0.135213 -0.217767   -0.227056   \n",
       "open_chain      -0.154450  0.051580   -0.087978 -0.123746   -0.222911   \n",
       "open_belt        1.000000 -0.177436    0.053666 -0.232214   -0.098290   \n",
       "open_rod        -0.177436  1.000000   -0.190087 -0.069521   -0.166718   \n",
       "open_cloak       0.053666 -0.190087    1.000000 -0.244383   -0.100235   \n",
       "open_bow        -0.232214 -0.069521   -0.244383  1.000000   -0.107169   \n",
       "open_glove      -0.098290 -0.166718   -0.100235 -0.107169    1.000000   \n",
       "open_tear       -0.247804 -0.002974   -0.064820 -0.017742   -0.163447   \n",
       "pick_order       0.186650 -0.067400   -0.024483  0.025129    0.016105   \n",
       "prekrug_slams    0.100117  0.082546    0.148822  0.045761    0.014044   \n",
       "points           0.159699 -0.046974   -0.024839 -0.017686    0.003827   \n",
       "placement       -0.159699  0.046974    0.024839  0.017686   -0.003827   \n",
       "\n",
       "                open_tear  pick_order  prekrug_slams    points  placement  \n",
       "neeko           -0.141836    0.048214      -0.125723  0.151451  -0.151451  \n",
       "gold_not_units   0.089699    0.077333      -0.018418  0.018075  -0.018075  \n",
       "3cost           -0.144720    0.065795       0.115662  0.151133  -0.151133  \n",
       "open_sword      -0.190042   -0.194990       0.025876  0.124216  -0.124216  \n",
       "open_chain      -0.097580    0.075388      -0.023847 -0.108642   0.108642  \n",
       "open_belt       -0.247804    0.186650       0.100117  0.159699  -0.159699  \n",
       "open_rod        -0.002974   -0.067400       0.082546 -0.046974   0.046974  \n",
       "open_cloak      -0.064820   -0.024483       0.148822 -0.024839   0.024839  \n",
       "open_bow        -0.017742    0.025129       0.045761 -0.017686   0.017686  \n",
       "open_glove      -0.163447    0.016105       0.014044  0.003827  -0.003827  \n",
       "open_tear        1.000000   -0.133306       0.009402 -0.128547   0.128547  \n",
       "pick_order      -0.133306    1.000000       0.295406  0.119079  -0.119079  \n",
       "prekrug_slams    0.009402    0.295406       1.000000  0.086358  -0.086358  \n",
       "points          -0.128547    0.119079       0.086358  1.000000  -1.000000  \n",
       "placement        0.128547   -0.119079      -0.086358 -1.000000   1.000000  "
      ]
     },
     "execution_count": 4,
     "metadata": {},
     "output_type": "execute_result"
    }
   ],
   "source": [
    "scores.drop(['player', 'day'], axis=1).corr()"
   ]
  },
  {
   "cell_type": "markdown",
   "id": "32d68c62-4e68-4236-841c-d96a0992cd61",
   "metadata": {},
   "source": [
    "- We immediately that features that correlate positively with points (better placement) are obtaining a neeko, pick order, and pre-krug slams. This seems to be in line with the prevailing theory amongst competitive TFT players that tourney environments are more competitive and faster paced, where saving HP is a higher priority.\n",
    "- Neeko: Champion duplicators are high value items which allow the player to \"duplicate\" a unit on the player's board. Having possession of a champion duplicator allows the player to \"tempo\" faster by upgrading their units sooner, where the player only needs N-1 copies of the unit to upgrade the unit vs. N copies without the champion duplicator. This increase in tempo saves HP by allowing the player to spike in power earlier, as well as save gold on shop rerolls to look for another copy of a unit.\n",
    "- Pick order: In Teamfight Tactics, carousel pick order is determined relative to each player's health points (HP). Players with lower HP are given earlier pick orders. Players are placed in 4 separate bins, where each pick bin is comprised of 2 players. Players that pick last are doing so because they have the highest HP, suggesting that they are playing more aggressively/flexibly.\n",
    "- Pre-krug slams: In a similar vein, players who slam (potentially suboptimal) items early are playing more aggressively to save HP, as well as playing more flexibly. Doing both allows the player to better manage key variances in the game (e.g. saving components for \"ideal\" items for forcing specific team compositions puts the player at more risk of being unable to find the complementary component to create the \"ideal\" item, as well as puts the player at the mercy of the randomly generated shops). Slamming (creating) items that may be suboptimal but are flexible are key when \"playing for tempo.\""
   ]
  },
  {
   "cell_type": "markdown",
   "id": "1ea2b2bd-36d7-4e1c-be17-d5f2bcb4cf85",
   "metadata": {},
   "source": [
    "## Placement Statistics"
   ]
  },
  {
   "cell_type": "code",
   "execution_count": 5,
   "id": "05365c6e-f54d-4319-aab3-c0fc2ba59383",
   "metadata": {
    "jp-MarkdownHeadingCollapsed": true
   },
   "outputs": [],
   "source": [
    " # Helper functions\n",
    "def result_to_dataframe(result):\n",
    "    data = []\n",
    "    data.append(tuple(result.keys()))\n",
    "    result = result.fetchall()\n",
    "    \n",
    "    for row in result:\n",
    "        data.append(row)\n",
    "\n",
    "    df = pd.DataFrame(data[1:], columns = data[0])\n",
    "    return df"
   ]
  },
  {
   "cell_type": "code",
   "execution_count": 6,
   "id": "14776f2a-4bf1-4304-a10a-34e9c2c404bb",
   "metadata": {},
   "outputs": [
    {
     "name": "stdout",
     "output_type": "stream",
     "text": [
      "             player placement_day2 placement_day3\n",
      "0          biribiri           4.33              -\n",
      "1            degree              -           4.33\n",
      "2          dishsoap           3.83            3.0\n",
      "3           kaiweng            4.5              -\n",
      "4            kiyoon              -           4.17\n",
      "5            milala            4.0              -\n",
      "6              rain           4.17            5.0\n",
      "7          rereplay           4.17           6.33\n",
      "8   rippleoverdrive           5.83              -\n",
      "9        robinsongz            5.0              -\n",
      "10             soju           5.83              -\n",
      "11          spencer            4.5              -\n",
      "12    wasianiverson           4.33              -\n",
      "13            weird           3.83            4.0\n"
     ]
    },
    {
     "data": {
      "image/png": "[encoded data removed]",
      "text/plain": [
       "<Figure size 800x500 with 1 Axes>"
      ]
     },
     "metadata": {},
     "output_type": "display_data"
    }
   ],
   "source": [
    "from sqlalchemy import text\n",
    "with engine.connect() as conn:\n",
    "    result = conn.execute(text('''\n",
    "        SELECT players.player, \n",
    "               COALESCE(s1.placement_day2, '-') AS placement_day2, \n",
    "               COALESCE(s2.placement_day3, '-') AS placement_day3\n",
    "          FROM (\n",
    "               SELECT player FROM scores WHERE day = 2\n",
    "                UNION\n",
    "               SELECT player FROM scores WHERE day = 3\n",
    "          ) AS players\n",
    "          LEFT JOIN (\n",
    "               SELECT player, ROUND(AVG(placement),2) AS placement_day2\n",
    "                 FROM scores\n",
    "                WHERE day = 2\n",
    "                GROUP BY player\n",
    "          ) s1 \n",
    "            ON players.player = s1.player\n",
    "          LEFT JOIN (\n",
    "               SELECT player, ROUND(AVG(placement),2) AS placement_day3\n",
    "               FROM scores\n",
    "               WHERE day = 3\n",
    "               GROUP BY player\n",
    "          ) s2 \n",
    "            ON players.player = s2.player\n",
    "         ORDER BY players.player;\n",
    "   '''))\n",
    "\n",
    "    day_scores = result_to_dataframe(result)\n",
    "print(day_scores)\n",
    "\n",
    "day_scores.replace('-', pd.NA, inplace=True)\n",
    "\n",
    "# Convert columns to numeric, coerce errors to NaN\n",
    "day_scores['placement_day2'] = pd.to_numeric(day_scores['placement_day2'], errors='coerce')\n",
    "day_scores['placement_day3'] = pd.to_numeric(day_scores['placement_day3'], errors='coerce')\n",
    "\n",
    "# Melt the DataFrame to long format for easier plotting\n",
    "melted_day_scores = pd.melt(day_scores, id_vars=['player'], var_name='Day', value_name='Placement')\n",
    "\n",
    "# Adjust the 'Day' column to be readable\n",
    "melted_day_scores['Day'] = melted_day_scores['Day'].map({\n",
    "    'placement_day2': 'Day 2',\n",
    "    'placement_day3': 'Day 3'\n",
    "})\n",
    "\n",
    "# Plot\n",
    "plt.figure(figsize=(8, 5))\n",
    "sns.barplot(x='player', y='Placement', hue='Day', data=melted_day_scores, errorbar=None)\n",
    "plt.xticks(rotation=45)\n",
    "plt.xlabel('Player')\n",
    "plt.ylabel('Average Placement')\n",
    "plt.title('Comparison of Player Placements on Day 2 and Day 3')\n",
    "plt.legend(title='Day')\n",
    "\n",
    "plt.tight_layout()\n",
    "plt.show()"
   ]
  },
  {
   "cell_type": "markdown",
   "id": "a0209bd1-9cce-44e8-9aa0-ee856af32b00",
   "metadata": {},
   "source": [
    "Nothing exceptional to note here. We query data from a derived table \"players\" and perform two left joins. The first join connects \"players\" with subquery \"s1\" that calculates average placement for each player on day 2. The second join connects the previous with subquery \"s2\" that calculates average placement for each player on day 3. Because this data was obtained through Twitch VODs (Videos On Demand), some players who did not record their VODs on either day 2 or day 3 did not have data for that day. Players who were elimated on day 2 obviously do not have day 3 data. In both these cases, NULL values were replaced with a hyphen using the COALESCE function. Lastly, placements were ROUNDed to 2 decimal points for readability. The result set is ordered by player names.\n",
    "\n",
    "The data was further converted into a Pandas Dataframe and plotted in Seaborn."
   ]
  },
  {
   "cell_type": "markdown",
   "id": "ca1df15a-51c3-4449-9399-4cd5bbf04b2d",
   "metadata": {},
   "source": [
    "## Player Statistics"
   ]
  },
  {
   "cell_type": "code",
   "execution_count": 7,
   "id": "55a091c3-fbaf-4ced-ae47-131a396e6c78",
   "metadata": {},
   "outputs": [
    {
     "data": {
      "text/html": [
       "<div>\n",
       "<style scoped>\n",
       "    .dataframe tbody tr th:only-of-type {\n",
       "        vertical-align: middle;\n",
       "    }\n",
       "\n",
       "    .dataframe tbody tr th {\n",
       "        vertical-align: top;\n",
       "    }\n",
       "\n",
       "    .dataframe thead th {\n",
       "        text-align: right;\n",
       "    }\n",
       "</style>\n",
       "<table border=\"1\" class=\"dataframe\">\n",
       "  <thead>\n",
       "    <tr style=\"text-align: right;\">\n",
       "      <th></th>\n",
       "      <th>player</th>\n",
       "      <th>average_num_3costs</th>\n",
       "      <th>average_pick_order</th>\n",
       "      <th>average_prekrug_slams</th>\n",
       "      <th>average_placement</th>\n",
       "    </tr>\n",
       "  </thead>\n",
       "  <tbody>\n",
       "    <tr>\n",
       "      <th>0</th>\n",
       "      <td>dishsoap</td>\n",
       "      <td>0.67</td>\n",
       "      <td>2.92</td>\n",
       "      <td>1.33</td>\n",
       "      <td>3.42</td>\n",
       "    </tr>\n",
       "    <tr>\n",
       "      <th>1</th>\n",
       "      <td>weird</td>\n",
       "      <td>0.92</td>\n",
       "      <td>1.92</td>\n",
       "      <td>1.50</td>\n",
       "      <td>3.92</td>\n",
       "    </tr>\n",
       "    <tr>\n",
       "      <th>2</th>\n",
       "      <td>milala</td>\n",
       "      <td>0.67</td>\n",
       "      <td>3.67</td>\n",
       "      <td>1.83</td>\n",
       "      <td>4.00</td>\n",
       "    </tr>\n",
       "    <tr>\n",
       "      <th>3</th>\n",
       "      <td>kiyoon</td>\n",
       "      <td>1.00</td>\n",
       "      <td>3.00</td>\n",
       "      <td>1.67</td>\n",
       "      <td>4.17</td>\n",
       "    </tr>\n",
       "    <tr>\n",
       "      <th>4</th>\n",
       "      <td>biribiri</td>\n",
       "      <td>0.67</td>\n",
       "      <td>2.33</td>\n",
       "      <td>1.50</td>\n",
       "      <td>4.33</td>\n",
       "    </tr>\n",
       "    <tr>\n",
       "      <th>5</th>\n",
       "      <td>degree</td>\n",
       "      <td>0.83</td>\n",
       "      <td>1.83</td>\n",
       "      <td>1.50</td>\n",
       "      <td>4.33</td>\n",
       "    </tr>\n",
       "    <tr>\n",
       "      <th>6</th>\n",
       "      <td>wasianiverson</td>\n",
       "      <td>0.67</td>\n",
       "      <td>2.67</td>\n",
       "      <td>1.50</td>\n",
       "      <td>4.33</td>\n",
       "    </tr>\n",
       "    <tr>\n",
       "      <th>7</th>\n",
       "      <td>kaiweng</td>\n",
       "      <td>1.00</td>\n",
       "      <td>2.83</td>\n",
       "      <td>2.17</td>\n",
       "      <td>4.50</td>\n",
       "    </tr>\n",
       "    <tr>\n",
       "      <th>8</th>\n",
       "      <td>spencer</td>\n",
       "      <td>0.50</td>\n",
       "      <td>2.00</td>\n",
       "      <td>1.50</td>\n",
       "      <td>4.50</td>\n",
       "    </tr>\n",
       "    <tr>\n",
       "      <th>9</th>\n",
       "      <td>rain</td>\n",
       "      <td>0.75</td>\n",
       "      <td>2.00</td>\n",
       "      <td>1.33</td>\n",
       "      <td>4.58</td>\n",
       "    </tr>\n",
       "    <tr>\n",
       "      <th>10</th>\n",
       "      <td>robinsongz</td>\n",
       "      <td>0.67</td>\n",
       "      <td>3.17</td>\n",
       "      <td>1.83</td>\n",
       "      <td>5.00</td>\n",
       "    </tr>\n",
       "    <tr>\n",
       "      <th>11</th>\n",
       "      <td>rereplay</td>\n",
       "      <td>1.17</td>\n",
       "      <td>2.83</td>\n",
       "      <td>1.83</td>\n",
       "      <td>5.25</td>\n",
       "    </tr>\n",
       "    <tr>\n",
       "      <th>12</th>\n",
       "      <td>rippleoverdrive</td>\n",
       "      <td>0.17</td>\n",
       "      <td>1.83</td>\n",
       "      <td>1.00</td>\n",
       "      <td>5.83</td>\n",
       "    </tr>\n",
       "    <tr>\n",
       "      <th>13</th>\n",
       "      <td>soju</td>\n",
       "      <td>0.33</td>\n",
       "      <td>2.33</td>\n",
       "      <td>1.67</td>\n",
       "      <td>5.83</td>\n",
       "    </tr>\n",
       "  </tbody>\n",
       "</table>\n",
       "</div>"
      ],
      "text/plain": [
       "             player  average_num_3costs  average_pick_order  \\\n",
       "0          dishsoap                0.67                2.92   \n",
       "1             weird                0.92                1.92   \n",
       "2            milala                0.67                3.67   \n",
       "3            kiyoon                1.00                3.00   \n",
       "4          biribiri                0.67                2.33   \n",
       "5            degree                0.83                1.83   \n",
       "6     wasianiverson                0.67                2.67   \n",
       "7           kaiweng                1.00                2.83   \n",
       "8           spencer                0.50                2.00   \n",
       "9              rain                0.75                2.00   \n",
       "10       robinsongz                0.67                3.17   \n",
       "11         rereplay                1.17                2.83   \n",
       "12  rippleoverdrive                0.17                1.83   \n",
       "13             soju                0.33                2.33   \n",
       "\n",
       "    average_prekrug_slams  average_placement  \n",
       "0                    1.33               3.42  \n",
       "1                    1.50               3.92  \n",
       "2                    1.83               4.00  \n",
       "3                    1.67               4.17  \n",
       "4                    1.50               4.33  \n",
       "5                    1.50               4.33  \n",
       "6                    1.50               4.33  \n",
       "7                    2.17               4.50  \n",
       "8                    1.50               4.50  \n",
       "9                    1.33               4.58  \n",
       "10                   1.83               5.00  \n",
       "11                   1.83               5.25  \n",
       "12                   1.00               5.83  \n",
       "13                   1.67               5.83  "
      ]
     },
     "execution_count": 7,
     "metadata": {},
     "output_type": "execute_result"
    }
   ],
   "source": [
    "with engine.connect() as conn:\n",
    "    result = conn.execute(text('''\n",
    "        SELECT player, ROUND(CAST(SUM(\"3cost\") AS FLOAT)/COUNT(*),2) AS average_num_3costs, ROUND(AVG(pick_order),2) AS average_pick_order, ROUND(AVG(prekrug_slams),2) AS average_prekrug_slams, ROUND(AVG(placement),2) AS average_placement\n",
    "          FROM scores \n",
    "         GROUP BY player\n",
    "         ORDER BY average_placement ASC\n",
    "   '''))\n",
    "    user_stats = result_to_dataframe(result)\n",
    "user_stats"
   ]
  },
  {
   "cell_type": "markdown",
   "id": "99f75c68-ec31-4e44-8ca2-8fe1e5d2a10e",
   "metadata": {},
   "source": [
    "Some key insights:\n",
    "- Here we see that weird has a much lower average pick order than other players with similar average placements. This suggests that weird is a strong \"greedy\" player (where \"greedy\" can be defined as contrasting to \"flexible\". A \"greedy\" player is more willing to save item components to create ideal item and is also more willing to \"sack\" (purposefully lose) HP to advantageously gain pick order on carousel for better units/components). Weird is well known as a strong non-flexible player, known for \"hard-forcing\" one or two team compositions with very specific item requirements, rather than playing flexibly.\n",
    "- On the other hand, Milala, Kiyoon, and Dishsoap are known to be more flexible, as supported by their average pick order statistics.\n",
    "- Surprisingly, despite being a known \"flex\" player, Dishsoap has a low average number of pre-krug slams. This in conjunction with Dishsoap's high average pick order suggests that Dishsoap is able to leverage tempo and save HP, while also valuing saving components in the early game.\n",
    "- Looking at Kaiweng, we see that he has a high average pick order despite having high average number of pre-krug slams, suggesting that his item slams are not as impactful as he would like. There are a few possible cases here.\n",
    "  - He is slamming low EV items whose downsides of being suboptimal outweigh the tempo gained for slamming\n",
    "  - In the case above, he could be just getting very unlucky with item components (e.g. in same cases duplicate components) OR he could be overvaluing the tempo gained from slamming certain items\n",
    "  - The items he is slamming are not flexible enough and force him to place specific team compositions, putting him at risk of unit shop randomness"
   ]
  },
  {
   "cell_type": "markdown",
   "id": "c7d75718-3b85-441c-a15a-ffe99047669a",
   "metadata": {},
   "source": [
    "# Modeling w/ Scikit-learn RandomForestRegressor"
   ]
  },
  {
   "cell_type": "code",
   "execution_count": 8,
   "id": "b03e7e45-f03d-4965-8753-829941828459",
   "metadata": {},
   "outputs": [],
   "source": [
    "from sklearn.ensemble import RandomForestRegressor \n",
    "from sklearn.model_selection import train_test_split\n",
    "from sklearn.feature_selection import SequentialFeatureSelector\n",
    "from sklearn.model_selection import GridSearchCV\n",
    "from sklearn.metrics import mean_squared_error, r2_score, mean_absolute_error"
   ]
  },
  {
   "cell_type": "code",
   "execution_count": 9,
   "id": "0be14e96-ceeb-47d2-a56f-a32b5c06813e",
   "metadata": {},
   "outputs": [],
   "source": [
    "X = scores.drop(['points','day','player','placement'],axis=1)\n",
    "y = scores['points']"
   ]
  },
  {
   "cell_type": "code",
   "execution_count": 10,
   "id": "c927d678-727a-4d50-9611-af9782befb77",
   "metadata": {},
   "outputs": [],
   "source": [
    "X_train, X_test, y_train, y_test = train_test_split(X, y, test_size=0.2, random_state=42)"
   ]
  },
  {
   "cell_type": "code",
   "execution_count": 11,
   "id": "395f7ab5-7686-452b-8afe-6bf5fedb2afa",
   "metadata": {},
   "outputs": [
    {
     "name": "stdout",
     "output_type": "stream",
     "text": [
      "Fitting 4 folds for each of 80 candidates, totalling 320 fits\n",
      "Best parameters: {'criterion': 'absolute_error', 'max_depth': 10, 'n_estimators': 111}\n"
     ]
    }
   ],
   "source": [
    "model = RandomForestRegressor(random_state=42)\n",
    "\n",
    "n_estimators = [int(x) for x in np.linspace(1, 200, 10)]\n",
    "criterion = ['squared_error', 'absolute_error', 'friedman_mse', 'poisson']\n",
    "max_depth = [int(x) for x in np.linspace(10, 30, 1)]\n",
    "max_depth.append(None)\n",
    "\n",
    "\n",
    "params = {\n",
    "    'n_estimators': n_estimators,\n",
    "    'criterion': criterion,\n",
    "    'max_depth': max_depth\n",
    "}\n",
    "\n",
    "grid_search = GridSearchCV(estimator=model, param_grid=params, cv=4, n_jobs=-1, verbose=2, scoring='neg_mean_squared_error')\n",
    "grid_search.fit(X_train, y_train)\n",
    "\n",
    "print(\"Best parameters:\", grid_search.best_params_)"
   ]
  },
  {
   "cell_type": "code",
   "execution_count": 12,
   "id": "2ee392e8-5825-4d37-9bb7-dd8f2eb322be",
   "metadata": {
    "scrolled": true
   },
   "outputs": [
    {
     "name": "stdout",
     "output_type": "stream",
     "text": [
      "Best features: ['gold_not_units' '3cost' 'open_sword' 'open_chain' 'open_belt']\n"
     ]
    }
   ],
   "source": [
    "model = RandomForestRegressor(random_state=42, criterion='absolute_error', max_depth=10, n_estimators=111)\n",
    "sfs = SequentialFeatureSelector(model, n_features_to_select = 5, direction='backward')\n",
    "sfs.fit(X_train, y_train)\n",
    "print(\"Best features:\", sfs.get_feature_names_out())"
   ]
  },
  {
   "cell_type": "code",
   "execution_count": 13,
   "id": "42b0d7b0-7b51-4ce7-9895-d19c31f0ccc9",
   "metadata": {},
   "outputs": [],
   "source": [
    "features = sfs.get_feature_names_out()"
   ]
  },
  {
   "cell_type": "code",
   "execution_count": 14,
   "id": "0d621963-15f6-4642-81f8-5170f5452801",
   "metadata": {},
   "outputs": [
    {
     "name": "stdout",
     "output_type": "stream",
     "text": [
      "MSE: 8.590909090909092\n",
      "R^2: -0.5021676300578035\n",
      "MAE: 2.5\n",
      "[0.11659362 0.29591306 0.19191989 0.20326092 0.1923125 ]\n",
      "['gold_not_units' '3cost' 'open_sword' 'open_chain' 'open_belt']\n"
     ]
    }
   ],
   "source": [
    "model = RandomForestRegressor(random_state=42, criterion='absolute_error', max_depth=10, n_estimators=111)\n",
    "model.fit(X_train[features],y_train)\n",
    "preds = model.predict(X_test[features])\n",
    "preds = [round(x,0) for x in preds]\n",
    "\n",
    "mse = mean_squared_error(y_test, preds)\n",
    "r2 = r2_score(y_test, preds)\n",
    "mae = mean_absolute_error(y_test, preds)\n",
    "\n",
    "print(f'MSE: {mse}')\n",
    "print(f'R^2: {r2}')\n",
    "print(f'MAE: {mae}')\n",
    "print(model.feature_importances_)\n",
    "print(model.feature_names_in_)\n"
   ]
  },
  {
   "cell_type": "markdown",
   "id": "ea9daf8d-f0f3-45b3-901f-43e5a3a6fdbb",
   "metadata": {},
   "source": [
    "## First Pass Analysis"
   ]
  },
  {
   "cell_type": "code",
   "execution_count": 15,
   "id": "1e97d34d-398e-4ac5-a006-0f27bee51cfb",
   "metadata": {},
   "outputs": [
    {
     "data": {
      "text/plain": [
       "(108, 13)"
      ]
     },
     "execution_count": 15,
     "metadata": {},
     "output_type": "execute_result"
    }
   ],
   "source": [
    "X.shape"
   ]
  },
  {
   "cell_type": "markdown",
   "id": "e70a9a30-e325-4be1-884b-1d3c94b33a55",
   "metadata": {},
   "source": [
    "We see a very poor R^2 value at -0.50. TFT is a highly complex game driven by decision making and randomness throughout all stages of the game, where here we only look at features obtained from the first stage of the game. As a result, **we would expect that a regression model would have a low R^2 value** (where R^2 value represents the proportion of variance in the target variable that is predictable from the feature space). Despite this, a R^2 of -0.50 is very poor. A negative R^2 value indicates that our model performs worse than a model that predicts the average outcome of all cases (ignoring all independent variables). This would suggest that there is a **flaw in our model or feature selection.**\n",
    "\n",
    "Possible explanation:\n",
    "- One glaring issue is that the size of our dataset is not very big, we have ~108 observations, while the dimensionality of our feature space is 13. Our poor model can likely be attributed to **poor feature selection.** A challenge that arises from the curse of dimensionality is that **as feature dimensionality increases, the search space for finding optimal subset of features also grows rapidly**. This in combination with data sparsity from low observation size **makes it difficult to assess the relevance and gain of individual features accurately.** Let's try to address this by taking a qualitative look at the features in the feature space and manually reducing dimensionality before performing our SFS.\n",
    "\n",
    "Qualitative look:\n",
    "- High level competitive TFT players, while some may be more flexible than their counterparts, are generally very flexible players. They can play every team composition as needed and are experts at pivoting their end game team compositions based on their given items and available units. This in combination with the fact that each item component has a maximum \"bag size\" (total number of each component that can be dropped throughout the game) of 3 is designed such that item distribution is more or less balanced across the game. The implication of this is that **starting item component may not be as strong of a predictor as initially thought.** We see that the three features involving items (open_sword, open_chain, open_belt) have a sum of feature importances of about 0.6, meaning that they together are the strongest predictors of the outcome. As discussed, this is likely not the case. Let's remove features corresponding to the starting item components manually from the feature space."
   ]
  },
  {
   "cell_type": "code",
   "execution_count": 16,
   "id": "2b31c7aa-0a5e-4896-8860-b2951f37d0eb",
   "metadata": {},
   "outputs": [],
   "source": [
    "features = ['gold_not_units', '3cost', 'prekrug_slams', 'neeko', 'pick_order']"
   ]
  },
  {
   "cell_type": "code",
   "execution_count": 17,
   "id": "82fed1c5-741d-41ed-ba7c-73054c2ed17b",
   "metadata": {},
   "outputs": [
    {
     "name": "stdout",
     "output_type": "stream",
     "text": [
      "Fitting 4 folds for each of 80 candidates, totalling 320 fits\n",
      "Best parameters: {'criterion': 'absolute_error', 'max_depth': 10, 'n_estimators': 23}\n"
     ]
    }
   ],
   "source": [
    "model = RandomForestRegressor(random_state=42)\n",
    "\n",
    "n_estimators = [int(x) for x in np.linspace(1, 200, 10)]\n",
    "criterion = ['squared_error', 'absolute_error', 'friedman_mse', 'poisson']\n",
    "max_depth = [int(x) for x in np.linspace(10, 30, 1)]\n",
    "max_depth.append(None)\n",
    "\n",
    "\n",
    "params = {\n",
    "    'n_estimators': n_estimators,\n",
    "    'criterion': criterion,\n",
    "    'max_depth': max_depth\n",
    "}\n",
    "\n",
    "grid_search = GridSearchCV(estimator=model, param_grid=params, cv=4, n_jobs=-1, verbose=2, scoring='neg_mean_squared_error')\n",
    "grid_search.fit(X_train[features], y_train)\n",
    "\n",
    "print(\"Best parameters:\", grid_search.best_params_)"
   ]
  },
  {
   "cell_type": "code",
   "execution_count": 18,
   "id": "67c766d4-b3e8-49e2-b83d-3067da249812",
   "metadata": {},
   "outputs": [
    {
     "name": "stdout",
     "output_type": "stream",
     "text": [
      "MSE: 4.7727272727272725\n",
      "R^2: 0.16546242774566466\n",
      "MAE: 1.7727272727272727\n",
      "[0.11840337 0.22377084 0.2851394  0.07475787 0.29792853]\n",
      "['gold_not_units' '3cost' 'prekrug_slams' 'neeko' 'pick_order']\n"
     ]
    }
   ],
   "source": [
    "model = RandomForestRegressor(random_state=42, criterion='absolute_error', max_depth=10, n_estimators=23)\n",
    "model.fit(X_train[features],y_train)\n",
    "preds = model.predict(X_test[features])\n",
    "preds = [round(x,0) for x in preds]\n",
    "\n",
    "mse = mean_squared_error(y_test, preds)\n",
    "r2 = r2_score(y_test, preds)\n",
    "mae = mean_absolute_error(y_test, preds)\n",
    "\n",
    "print(f'MSE: {mse}')\n",
    "print(f'R^2: {r2}')\n",
    "print(f'MAE: {mae}')\n",
    "print(model.feature_importances_)\n",
    "print(model.feature_names_in_)\n"
   ]
  },
  {
   "cell_type": "markdown",
   "id": "c3e7c20a-bcd2-48d6-bb72-cf8926d88497",
   "metadata": {},
   "source": [
    "## Discussion"
   ]
  },
  {
   "cell_type": "markdown",
   "id": "448bcc64-79f2-45dc-ab4f-3f9cf7e1e396",
   "metadata": {},
   "source": [
    "After manually reducing feature space dimensionality, we see a much better R^2 value of 0.165. This is about in line with what we would expect from a highly complex game like TFT. "
   ]
  },
  {
   "cell_type": "markdown",
   "id": "dd4ee960-7f64-48f2-9c3b-1ac9e09d8095",
   "metadata": {},
   "source": [
    "# Conclusion"
   ]
  },
  {
   "cell_type": "markdown",
   "id": "f7c57590-3ae9-4573-a581-9b4b68d1156e",
   "metadata": {},
   "source": [
    "**Insights:**\n",
    "- Prekrug_slams/pick_order: We see that these features have the highest importances. Given that TFT is a competitive, skill-based game and that prekrug_slams and pick_order are the two features that are player decision-driven rather than random, we would hope that these two features have the most impact on predicting player placement. This suggests that **early game player decisions have a bigger impact on placement than randomness.** This is a **very optimistic insight.**\n",
    "- Neeko: We see that in our dataset that a positive outcome in the neeko predictor is only seen 4 times out of 108 observations. Given that this feature is the feature with the rarest positive frequency, we would hope that it does not strongly contribute to predicting player outcome (i.e. getting an extremely rare neeko significantly boosts your average placement in a game). Our observed feature importance corresponding to 'neeko' is 0.074. This is again **optimistic** and in line with what we would expect/hope.\n",
    "- Gold_not_units/3cost: These two features are similar. When receiving units from drops, they can either be 2- or 3-cost drops. Otherwise, the drop can come in the form of gold of the same value. Seeing that 3cost has a feature importance twice than of gold_not_units, we can conclude that **receiving a 3-cost drop in the game may be significantly advantageous.** If the strength of receiving a 2-cost was about as strong as a 3-cost, we would likely see a more similar feature importance. We suggest **that there may be a potential imblanace in game mechanics involving unit/gold drops.** While feature importances provide insights into predictive power of features in our model, they do not directly measure fairness or balance in game. **We would have to look at player performance data for wide ranges of scenarios and/or control for other variables to draw definite conclusions about game balance.**\n",
    "  "
   ]
  }
 ],
 "metadata": {
  "kernelspec": {
   "display_name": "Python 3 (ipykernel)",
   "language": "python",
   "name": "python3"
  },
  "language_info": {
   "codemirror_mode": {
    "name": "ipython",
    "version": 3
   },
   "file_extension": ".py",
   "mimetype": "text/x-python",
   "name": "python",
   "nbconvert_exporter": "python",
   "pygments_lexer": "ipython3",
   "version": "3.11.8"
  }
 },
 "nbformat": 4,
 "nbformat_minor": 5
}
